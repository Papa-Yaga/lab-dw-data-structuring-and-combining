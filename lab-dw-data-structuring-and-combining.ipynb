{
 "cells": [
  {
   "cell_type": "markdown",
   "id": "25d7736c-ba17-4aff-b6bb-66eba20fbf4e",
   "metadata": {
    "id": "25d7736c-ba17-4aff-b6bb-66eba20fbf4e"
   },
   "source": [
    "# Lab | Data Structuring and Combining Data"
   ]
  },
  {
   "cell_type": "markdown",
   "id": "a2cdfc70-44c8-478c-81e7-2bc43fdf4986",
   "metadata": {
    "id": "a2cdfc70-44c8-478c-81e7-2bc43fdf4986"
   },
   "source": [
    "## Challenge 1: Combining & Cleaning Data\n",
    "\n",
    "In this challenge, we will be working with the customer data from an insurance company, as we did in the two previous labs. The data can be found here:\n",
    "- https://raw.githubusercontent.com/data-bootcamp-v4/data/main/file1.csv\n",
    "\n",
    "But this time, we got new data, which can be found in the following 2 CSV files located at the links below.\n",
    "\n",
    "- https://raw.githubusercontent.com/data-bootcamp-v4/data/main/file2.csv\n",
    "- https://raw.githubusercontent.com/data-bootcamp-v4/data/main/file3.csv\n",
    "\n",
    "Note that you'll need to clean and format the new data.\n",
    "\n",
    "Observation:\n",
    "- One option is to first combine the three datasets and then apply the cleaning function to the new combined dataset\n",
    "- Another option would be to read the clean file you saved in the previous lab, and just clean the two new files and concatenate the three clean datasets"
   ]
  },
  {
   "cell_type": "code",
   "execution_count": 245,
   "id": "492d06e3-92c7-4105-ac72-536db98d3244",
   "metadata": {
    "id": "492d06e3-92c7-4105-ac72-536db98d3244"
   },
   "outputs": [],
   "source": [
    "import pandas as pd\n",
    "import numpy as np\n",
    "url = \"https://raw.githubusercontent.com/data-bootcamp-v4/data/main/file1.csv\"\n",
    "url_2 = \"https://raw.githubusercontent.com/data-bootcamp-v4/data/main/file2.csv\"\n",
    "url_3 = \"https://raw.githubusercontent.com/data-bootcamp-v4/data/main/file3.csv\"\n",
    "insurance = pd.read_csv(url)\n",
    "insurance_new_1 = pd.read_csv(url_2)\n",
    "insurance_new_2 = pd.read_csv(url_3)"
   ]
  },
  {
   "cell_type": "code",
   "execution_count": 246,
   "id": "9be4b480-53ac-411b-96b5-66902a887d88",
   "metadata": {},
   "outputs": [],
   "source": [
    "combined_insurance = pd.concat([insurance,insurance_new_1,insurance_new_2])"
   ]
  },
  {
   "cell_type": "code",
   "execution_count": 247,
   "id": "f16b96d4-6e90-4ba6-8aad-f1275bb58617",
   "metadata": {},
   "outputs": [],
   "source": [
    "combined_insurance.rename(columns={\"ST\":\"State\",\"GENDER\":\"Gender\"}, inplace=True)\n",
    "combined_insurance.columns = pd.Series(combined_insurance.columns).apply(lambda x: x.replace(\" \", \"_\"))"
   ]
  },
  {
   "cell_type": "code",
   "execution_count": 248,
   "id": "6d2e08d8-2d51-499c-97b3-c772d58d2492",
   "metadata": {},
   "outputs": [
    {
     "data": {
      "text/plain": [
       "Customer                      2937\n",
       "State                        10007\n",
       "Gender                       10129\n",
       "Education                     2937\n",
       "Customer_Lifetime_Value       2944\n",
       "Income                        2937\n",
       "Monthly_Premium_Auto          2937\n",
       "Number_of_Open_Complaints     2937\n",
       "Policy_Type                   2937\n",
       "Vehicle_Class                 2937\n",
       "Total_Claim_Amount            2937\n",
       "State                         5004\n",
       "Gender                        5004\n",
       "dtype: int64"
      ]
     },
     "execution_count": 248,
     "metadata": {},
     "output_type": "execute_result"
    }
   ],
   "source": [
    "combined_insurance.isnull().sum()"
   ]
  },
  {
   "cell_type": "code",
   "execution_count": 251,
   "id": "97c6f4c2-5388-49c2-8462-cba499fb37c8",
   "metadata": {},
   "outputs": [],
   "source": [
    "combined_insurance.columns = [\"Customer\",\"State_1\",\"Gender_1\",\"Education\",\"Customer_Lifetime_Value\",\"Income\",\"Monthly_Premium_Auto\",\n",
    "                                     \"Number_of_Open_Complaints\", \"Policy_Type\",\"Vehicle_Class\",\"Total_Claim_Amount\",\"State_2\", \"Gender_2\"]"
   ]
  },
  {
   "cell_type": "code",
   "execution_count": 275,
   "id": "abeec474-33bb-4738-bcfa-dc5480885753",
   "metadata": {},
   "outputs": [],
   "source": [
    "\n",
    "combined_insurance[\"Gender\"] = pd.concat([combined_insurance[\"Gender_1\"],combined_insurance[\"Gender_2\"]]).dropna().reset_index(drop=True)\n",
    "combined_insurance[\"State\"] = pd.concat([combined_insurance[\"State_1\"],combined_insurance[\"State_2\"]]).dropna().reset_index(drop=True)\n",
    "combined_insurance.drop([\"State_1\",\"State_2\",\"Gender_1\",\"Gender_2\"],axis=1, inplace=True)\n",
    "combined_insurance[\"Customer_Lifetime_Value\"].fillna(\"0%\", inplace=True)\n",
    "combined_insurance[\"Customer_Lifetime_Value\"] = combined_insurance[\"Customer_Lifetime_Value\"].apply(lambda x:\n",
    "                                                                                                    str(x).replace(\"%\",\"\")).astype(float).astype(int)\n",
    "combined_insurance.dropna(subset=\"Customer\", inplace=True)\n"
   ]
  },
  {
   "cell_type": "code",
   "execution_count": 230,
   "id": "de1232fb-43ae-48ab-9df8-deabd43f9f65",
   "metadata": {},
   "outputs": [],
   "source": [
    "# combined_insurance[\"Customer_Lifetime_Value\"==0] = combined_insurance[\"Customer_Lifetime_Value\"].mean().astype(int)"
   ]
  },
  {
   "cell_type": "code",
   "execution_count": 269,
   "id": "566b9ce0-ba1a-479f-b4fc-6d90eacb6dc8",
   "metadata": {},
   "outputs": [],
   "source": [
    "def clean_g(x):\n",
    "    if x == \"M\" or x == \"Male\":\n",
    "        return \"Male\"\n",
    "    else:\n",
    "        return \"Female\"\n",
    "\n",
    "combined_insurance[\"Gender\"] = combined_insurance[\"Gender\"].apply(clean_g)\n",
    "combined_insurance[\"State\"] = combined_insurance[\"State\"].apply(lambda x: \"Arizona\" if x == \"AZ\" else \n",
    "                                                                (\"California\" if x == \"Cali\" else\n",
    "                                                                 (\"Washington\" if x == \"WA\" else x)))\n",
    "combined_insurance[\"Education\"] = combined_insurance[\"Education\"].apply(lambda x: \"Bachelor\" if x == \"Bachelors\" else x)\n",
    "combined_insurance[\"Vehicle_Class\"] = combined_insurance[\"Vehicle_Class\"].apply(lambda x: \"Luxury\" if \"Luxury\" in x or x == \"Sports Car\" else x)"
   ]
  },
  {
   "cell_type": "code",
   "execution_count": 272,
   "id": "1e8d09d3-8ca0-4c50-bae9-545427704d0d",
   "metadata": {},
   "outputs": [
    {
     "data": {
      "text/plain": [
       "0       0\n",
       "1       0\n",
       "2       0\n",
       "3       0\n",
       "4       0\n",
       "       ..\n",
       "7065    0\n",
       "7066    0\n",
       "7067    3\n",
       "7068    0\n",
       "7069    0\n",
       "Name: Number_of_Open_Complaints, Length: 9137, dtype: object"
      ]
     },
     "execution_count": 272,
     "metadata": {},
     "output_type": "execute_result"
    }
   ],
   "source": [
    "combined_insurance[\"Number_of_Open_Complaints\"].apply(lambda x: str(x)[2] if \"/\" in str(x) else x)"
   ]
  },
  {
   "cell_type": "code",
   "execution_count": 279,
   "id": "4bf46fa0-bede-4477-ba9b-e3e1a22565c3",
   "metadata": {},
   "outputs": [
    {
     "data": {
      "text/plain": [
       "0"
      ]
     },
     "execution_count": 279,
     "metadata": {},
     "output_type": "execute_result"
    }
   ],
   "source": [
    "combined_insurance.duplicated().sum()"
   ]
  },
  {
   "cell_type": "markdown",
   "id": "31b8a9e7-7db9-4604-991b-ef6771603e57",
   "metadata": {
    "id": "31b8a9e7-7db9-4604-991b-ef6771603e57"
   },
   "source": [
    "# Challenge 2: Structuring Data"
   ]
  },
  {
   "cell_type": "markdown",
   "id": "a877fd6d-7a0c-46d2-9657-f25036e4ca4b",
   "metadata": {
    "id": "a877fd6d-7a0c-46d2-9657-f25036e4ca4b"
   },
   "source": [
    "In this challenge, we will continue to work with customer data from an insurance company, but we will use a dataset with more columns, called marketing_customer_analysis.csv, which can be found at the following link:\n",
    "\n",
    "https://raw.githubusercontent.com/data-bootcamp-v4/data/main/marketing_customer_analysis_clean.csv\n",
    "\n",
    "This dataset contains information such as customer demographics, policy details, vehicle information, and the customer's response to the last marketing campaign. Our goal is to explore and analyze this data by performing data cleaning, formatting, and structuring."
   ]
  },
  {
   "cell_type": "code",
   "execution_count": 280,
   "id": "aa10d9b0-1c27-4d3f-a8e4-db6ab73bfd26",
   "metadata": {
    "id": "aa10d9b0-1c27-4d3f-a8e4-db6ab73bfd26"
   },
   "outputs": [],
   "source": [
    "new_url = \"https://raw.githubusercontent.com/data-bootcamp-v4/data/main/marketing_customer_analysis_clean.csv\"\n",
    "insurance_new = pd.read_csv(new_url)"
   ]
  },
  {
   "cell_type": "markdown",
   "id": "df35fd0d-513e-4e77-867e-429da10a9cc7",
   "metadata": {
    "id": "df35fd0d-513e-4e77-867e-429da10a9cc7"
   },
   "source": [
    "1. You work at the marketing department and you want to know which sales channel brought the most sales in terms of total revenue. Using pivot, create a summary table showing the total revenue for each sales channel (branch, call center, web, and mail).\n",
    "Round the total revenue to 2 decimal points.  Analyze the resulting table to draw insights."
   ]
  },
  {
   "cell_type": "markdown",
   "id": "640993b2-a291-436c-a34d-a551144f8196",
   "metadata": {
    "id": "640993b2-a291-436c-a34d-a551144f8196"
   },
   "source": [
    "2. Create a pivot table that shows the average customer lifetime value per gender and education level. Analyze the resulting table to draw insights."
   ]
  },
  {
   "cell_type": "code",
   "execution_count": 287,
   "id": "d61ceb36-9335-4d2d-a057-a8289de23f5f",
   "metadata": {},
   "outputs": [
    {
     "data": {
      "text/html": [
       "<div>\n",
       "<style scoped>\n",
       "    .dataframe tbody tr th:only-of-type {\n",
       "        vertical-align: middle;\n",
       "    }\n",
       "\n",
       "    .dataframe tbody tr th {\n",
       "        vertical-align: top;\n",
       "    }\n",
       "\n",
       "    .dataframe thead th {\n",
       "        text-align: right;\n",
       "    }\n",
       "</style>\n",
       "<table border=\"1\" class=\"dataframe\">\n",
       "  <thead>\n",
       "    <tr style=\"text-align: right;\">\n",
       "      <th></th>\n",
       "      <th>total_claim_amount</th>\n",
       "      <th>customer_lifetime_value</th>\n",
       "    </tr>\n",
       "    <tr>\n",
       "      <th>sales_channel</th>\n",
       "      <th></th>\n",
       "      <th></th>\n",
       "    </tr>\n",
       "  </thead>\n",
       "  <tbody>\n",
       "    <tr>\n",
       "      <th>Agent</th>\n",
       "      <td>1810226.82</td>\n",
       "      <td>33057887.85</td>\n",
       "    </tr>\n",
       "    <tr>\n",
       "      <th>Branch</th>\n",
       "      <td>1301204.00</td>\n",
       "      <td>24359201.21</td>\n",
       "    </tr>\n",
       "    <tr>\n",
       "      <th>Call Center</th>\n",
       "      <td>926600.82</td>\n",
       "      <td>17364288.37</td>\n",
       "    </tr>\n",
       "    <tr>\n",
       "      <th>Web</th>\n",
       "      <td>706600.04</td>\n",
       "      <td>12697632.90</td>\n",
       "    </tr>\n",
       "  </tbody>\n",
       "</table>\n",
       "</div>"
      ],
      "text/plain": [
       "               total_claim_amount  customer_lifetime_value\n",
       "sales_channel                                             \n",
       "Agent                  1810226.82              33057887.85\n",
       "Branch                 1301204.00              24359201.21\n",
       "Call Center             926600.82              17364288.37\n",
       "Web                     706600.04              12697632.90"
      ]
     },
     "execution_count": 287,
     "metadata": {},
     "output_type": "execute_result"
    }
   ],
   "source": [
    "insurance_new.groupby([\"sales_channel\"])[[\"total_claim_amount\",\"customer_lifetime_value\"]].sum().round(2)"
   ]
  },
  {
   "cell_type": "code",
   "execution_count": 289,
   "id": "a923af88-8286-4764-a587-588287f13588",
   "metadata": {},
   "outputs": [
    {
     "data": {
      "text/plain": [
       "gender  education           \n",
       "F       Bachelor                7874.27\n",
       "        College                 7748.82\n",
       "        Doctor                  7328.51\n",
       "        High School or Below    8675.22\n",
       "        Master                  8157.05\n",
       "M       Bachelor                7703.60\n",
       "        College                 8052.46\n",
       "        Doctor                  7415.33\n",
       "        High School or Below    8149.69\n",
       "        Master                  8168.83\n",
       "Name: customer_lifetime_value, dtype: float64"
      ]
     },
     "execution_count": 289,
     "metadata": {},
     "output_type": "execute_result"
    }
   ],
   "source": [
    "insurance_new.groupby([\"gender\",\"education\"])[\"customer_lifetime_value\"].mean().round(2)"
   ]
  },
  {
   "cell_type": "markdown",
   "id": "32c7f2e5-3d90-43e5-be33-9781b6069198",
   "metadata": {
    "id": "32c7f2e5-3d90-43e5-be33-9781b6069198"
   },
   "source": [
    "## Bonus\n",
    "\n",
    "You work at the customer service department and you want to know which months had the highest number of complaints by policy type category. Create a summary table showing the number of complaints by policy type and month.\n",
    "Show it in a long format table."
   ]
  },
  {
   "cell_type": "markdown",
   "id": "e3d09a8f-953c-448a-a5f8-2e5a8cca7291",
   "metadata": {
    "id": "e3d09a8f-953c-448a-a5f8-2e5a8cca7291"
   },
   "source": [
    "*In data analysis, a long format table is a way of structuring data in which each observation or measurement is stored in a separate row of the table. The key characteristic of a long format table is that each column represents a single variable, and each row represents a single observation of that variable.*\n",
    "\n",
    "*More information about long and wide format tables here: https://www.statology.org/long-vs-wide-data/*"
   ]
  },
  {
   "cell_type": "code",
   "execution_count": null,
   "id": "3a069e0b-b400-470e-904d-d17582191be4",
   "metadata": {
    "id": "3a069e0b-b400-470e-904d-d17582191be4"
   },
   "outputs": [],
   "source": [
    "# Your code goes here"
   ]
  }
 ],
 "metadata": {
  "colab": {
   "provenance": []
  },
  "kernelspec": {
   "display_name": "Python 3 (ipykernel)",
   "language": "python",
   "name": "python3"
  },
  "language_info": {
   "codemirror_mode": {
    "name": "ipython",
    "version": 3
   },
   "file_extension": ".py",
   "mimetype": "text/x-python",
   "name": "python",
   "nbconvert_exporter": "python",
   "pygments_lexer": "ipython3",
   "version": "3.11.7"
  }
 },
 "nbformat": 4,
 "nbformat_minor": 5
}
